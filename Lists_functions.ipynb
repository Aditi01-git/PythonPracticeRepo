{
 "cells": [
  {
   "cell_type": "markdown",
   "metadata": {},
   "source": [
    "Consider a list (list = []). You can perform the following commands:\n",
    "\n",
    "insert i e: Insert integer e at position i .\n",
    "print: Print the list.\n",
    "remove e: Delete the first occurrence of integer .\n",
    "append e: Insert integer i at the end of the list.\n",
    "sort: Sort the list.\n",
    "pop: Pop the last element from the list.\n",
    "reverse: Reverse the list."
   ]
  },
  {
   "cell_type": "code",
   "execution_count": null,
   "metadata": {},
   "outputs": [],
   "source": [
    "if __name__ == '__main__':\n",
    "    N = int(input())\n",
    "    L = []\n",
    "    for _ in range(N):\n",
    "       cmd,*line = input().split()\n",
    "       line = list(map(int, line))\n",
    "       if cmd == \"insert\":\n",
    "           index = line[0]\n",
    "           ele = line[1]\n",
    "           L.insert(index, ele)\n",
    "       elif cmd == \"print\":\n",
    "           print(L)\n",
    "       elif cmd == \"remove\":\n",
    "           L.remove(line[0])\n",
    "       elif cmd == \"append\":\n",
    "           L.append(line[0])\n",
    "       elif cmd == \"sort\":\n",
    "           L.sort()\n",
    "       elif cmd == \"pop\":\n",
    "           L.pop()\n",
    "       elif cmd == \"reverse\":\n",
    "           L.reverse()"
   ]
  },
  {
   "cell_type": "markdown",
   "metadata": {},
   "source": [
    "Alternative:"
   ]
  },
  {
   "cell_type": "code",
   "execution_count": null,
   "metadata": {},
   "outputs": [],
   "source": [
    "n = input()\n",
    "l = []\n",
    "for _ in range(n):\n",
    "    s = raw_input().split()\n",
    "    cmd = s[0]\n",
    "    args = s[1:]\n",
    "    if cmd !=\"print\":\n",
    "        cmd += \"(\"+ \",\".join(args) +\")\"\n",
    "        eval(\"l.\"+cmd)\n",
    "    else:\n",
    "        print l"
   ]
  }
 ],
 "metadata": {
  "kernelspec": {
   "display_name": "Python 3",
   "language": "python",
   "name": "python3"
  },
  "language_info": {
   "codemirror_mode": {
    "name": "ipython",
    "version": 3
   },
   "file_extension": ".py",
   "mimetype": "text/x-python",
   "name": "python",
   "nbconvert_exporter": "python",
   "pygments_lexer": "ipython3",
   "version": "3.6.10"
  }
 },
 "nbformat": 4,
 "nbformat_minor": 4
}
