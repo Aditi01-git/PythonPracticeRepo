{
 "cells": [
  {
   "cell_type": "markdown",
   "metadata": {},
   "source": [
    "Given the participants' score sheet for your University Sports Day, you are required to find the runner-up score. You are given  n scores. Store them in a list A[] and find the score of the runner-up.\n",
    "\n",
    "Constraints:\n",
    "2<=n<=10\n",
    "-100<= A[i]<= 100"
   ]
  },
  {
   "cell_type": "code",
   "execution_count": 41,
   "metadata": {},
   "outputs": [
    {
     "name": "stdout",
     "output_type": "stream",
     "text": [
      "5\n",
      "2 3 6 6 5\n",
      "5\n"
     ]
    }
   ],
   "source": [
    "if __name__ == '__main__':\n",
    "    n = int(input())\n",
    "    arr = list(map(int, input().split()))\n",
    "    arr = [i for i in arr if (i >= -100 and i <= 100)]\n",
    "    if n >= 2 and n <= 10:\n",
    "        arr = set(arr)\n",
    "        win = max(arr)\n",
    "        arr.remove(win)\n",
    "        print(max(arr))"
   ]
  },
  {
   "cell_type": "markdown",
   "metadata": {},
   "source": [
    "Alternate solution:"
   ]
  },
  {
   "cell_type": "code",
   "execution_count": 29,
   "metadata": {},
   "outputs": [
    {
     "name": "stdout",
     "output_type": "stream",
     "text": [
      "5\n",
      "6 3  1 5 3\n",
      "[6, 3, 1, 5, 3]\n",
      "5\n"
     ]
    }
   ],
   "source": [
    "i = int(input())\n",
    "lis = list(map(int,input().strip().split()))\n",
    "print(lis)\n",
    "z = max(lis)\n",
    "while max(lis) == z:\n",
    "    lis.remove(max(lis))\n",
    "\n",
    "print (max(lis))"
   ]
  }
 ],
 "metadata": {
  "kernelspec": {
   "display_name": "Python 3",
   "language": "python",
   "name": "python3"
  },
  "language_info": {
   "codemirror_mode": {
    "name": "ipython",
    "version": 3
   },
   "file_extension": ".py",
   "mimetype": "text/x-python",
   "name": "python",
   "nbconvert_exporter": "python",
   "pygments_lexer": "ipython3",
   "version": "3.6.10"
  }
 },
 "nbformat": 4,
 "nbformat_minor": 4
}
