{
 "cells": [
  {
   "cell_type": "markdown",
   "metadata": {},
   "source": [
    "### Given the names and grades for each student in a class of N students, store them in a nested list and print the name(s) of any student(s) having the second lowest grade.\n",
    "\n",
    "There are 5 students in this class whose names and grades are assembled to build the following list:\n",
    "\n",
    "python students = [['Harry', 37.21], ['Berry', 37.21], ['Tina', 37.2], ['Akriti', 41], ['Harsh', 39]]\n",
    "\n",
    "The lowest grade of 37.2 belongs to Tina. The second lowest grade of 37.21 belongs to both Harry and Berry, so we order their names alphabetically and print each name on a new line."
   ]
  },
  {
   "cell_type": "code",
   "execution_count": 1,
   "metadata": {},
   "outputs": [],
   "source": [
    "marksheet = []\n",
    "for _ in range(0,int(input())):\n",
    "    marksheet.append([input(), float(input())])\n",
    "\n",
    "second_highest = sorted(list(set([marks for name, marks in marksheet])))[1]\n",
    "print('\\n'.join([a for a,b in sorted(marksheet) if b == second_highest]))"
   ]
  },
  {
   "cell_type": "markdown",
   "metadata": {},
   "source": [
    "### Alternate:"
   ]
  },
  {
   "cell_type": "code",
   "execution_count": null,
   "metadata": {},
   "outputs": [],
   "source": [
    "if __name__ == '__main__':\n",
    "    nest_list = []\n",
    "    for _ in range(0,int(input())):\n",
    "        nest_list.append([input(), float(input())])\n",
    "        \n",
    "    second_lowest = sorted(list(set([marks for name, marks in nest_list])))[1]\n",
    "    nest_list.sort()\n",
    "    for i in nest_list:\n",
    "        if i[-1] == second_lowest:\n",
    "            print('{0}\\n'.format(i[0]), end= '')"
   ]
  }
 ],
 "metadata": {
  "kernelspec": {
   "display_name": "Python 3",
   "language": "python",
   "name": "python3"
  },
  "language_info": {
   "codemirror_mode": {
    "name": "ipython",
    "version": 3
   },
   "file_extension": ".py",
   "mimetype": "text/x-python",
   "name": "python",
   "nbconvert_exporter": "python",
   "pygments_lexer": "ipython3",
   "version": "3.6.10"
  }
 },
 "nbformat": 4,
 "nbformat_minor": 4
}
